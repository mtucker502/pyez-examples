{
 "cells": [
  {
   "cell_type": "markdown",
   "metadata": {},
   "source": [
    "**Device config:**"
   ]
  },
  {
   "cell_type": "code",
   "execution_count": null,
   "metadata": {
    "collapsed": false
   },
   "outputs": [],
   "source": [
    "import getpass\n",
    "hostname = input(\"Device Hostname:\")\n",
    "username = input(\"Username:\")\n",
    "password = getpass.getpass()"
   ]
  },
  {
   "cell_type": "markdown",
   "metadata": {},
   "source": [
    "# Installing Software\n",
    "\n",
    "The `install()` method from SW `jnpr.junos.utils.sw` is useful for installing new JunOS. It will SCP the software from a local directory to specified remote directory or /var/tmp if not specified.\n",
    "\n",
    "```python\n",
    "install(package=None, pkg_set=None, remote_path='/var/tmp', progress=None, validate=False, checksum=None, cleanfs=True, no_copy=False, timeout=1800, **kwargs)\n",
    "```\n",
    "\n",
    "For better progress reporting during the installation you can set progress to a callback function that will provide more verbose output. Example:\n",
    "\n",
    "```python\n",
    "def myprogress(dev, report):\n",
    "  print \"host: %s, report: %s\" % (dev.hostname, report)\n",
    "```\n",
    "\n",
    "You can also have `install()` clean the file system prior to uploading the new software package.\n",
    "\n",
    "Here is a simple example below to show you how it functions. For a better example [click here](https://www.juniper.net/techpubs/en_US/junos-pyez2.0/topics/example/junos-pyez-program-software-installing.html)"
   ]
  },
  {
   "cell_type": "code",
   "execution_count": null,
   "metadata": {
    "collapsed": true
   },
   "outputs": [],
   "source": [
    "#note, this script hasn't been tested running FROM a Jupyter Notebook. I don't recommend it.\n",
    "\n",
    "from jnpr.junos import Device\n",
    "from jnpr.junos.utils.sw import SW\n",
    "\n",
    "dev = Device(host=hostname, user=username, password=password, port='22')\n",
    "from jnpr.junos.exception import *\n",
    "\n",
    "sw = SW(dev)\n",
    "ok = sw.install(package=r'/home/jovyan/junos-srx5000-15.1X49-D60.7-domestic.tgz', progress=True)\n",
    "\n",
    "if ok:\n",
    "    print 'rebooting'\n",
    "    sw.reboot()"
   ]
  }
 ],
 "metadata": {
  "kernelspec": {
   "display_name": "Python 3",
   "language": "python",
   "name": "python3"
  },
  "language_info": {
   "codemirror_mode": {
    "name": "ipython",
    "version": 3
   },
   "file_extension": ".py",
   "mimetype": "text/x-python",
   "name": "python",
   "nbconvert_exporter": "python",
   "pygments_lexer": "ipython3",
   "version": "3.5.2"
  }
 },
 "nbformat": 4,
 "nbformat_minor": 1
}
