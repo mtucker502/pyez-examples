{
 "cells": [
  {
   "cell_type": "markdown",
   "metadata": {},
   "source": [
    "**Device config:**"
   ]
  },
  {
   "cell_type": "code",
   "execution_count": null,
   "metadata": {
    "collapsed": false
   },
   "outputs": [],
   "source": [
    "import getpass\n",
    "hostname = input(\"Device Hostname:\")\n",
    "username = input(\"Username:\")\n",
    "password = getpass.getpass()"
   ]
  },
  {
   "cell_type": "markdown",
   "metadata": {},
   "source": [
    "# Configuring a device\n",
    "\n",
    "There are two methods to configuring the device, structured and unstructured.\n",
    "\n",
    "## Structured Configuration Changes\n",
    "\n",
    "Structured configuration changes are useful when the user does not know configuration stanzas or how to configure a Junos device. It abstracts the configuration statements from the user and allows changes to be made through tables and views.\n",
    "\n",
    "## Unstructured Configuration Changes\n",
    "\n",
    "Unstructured configuration changes allow the user to make changes via \"normal\" configuration commands using XML, Junos set commands or JSON. These changes are performed using the ` jnpr.junos.utils.config.Config ` utility. \n",
    "\n",
    "After connecting to the device you create a `Config` object and associate it to the device:\n",
    "\n",
    "    from jnpr.junos import Device\n",
    "    from jnpr.junos.utils.config import Config\n",
    "\n",
    "    dev = Device(host=hostname, user=username, password=password, port='22')\n",
    "    cu = Config(dev)\n",
    "    \n",
    "The basic process for making changes is to:\n",
    "\n",
    "1. Lock the configuarion using ` lock() `\n",
    "2. Use `load()`, `rollback()` or `rescue()` to make changes\n",
    "3. Commit the configuration using `commit()`\n",
    "4. Unlock the configuration using `unlock()`\n",
    "\n",
    "\n",
    "## Unstructured Example\n",
    "\n",
    "*Note, I had to adjust the timeout on commit() to 120 seconds since my compute node is slow and the vSRX was taking >30 seconds (the default timeout) to commit.*"
   ]
  },
  {
   "cell_type": "code",
   "execution_count": null,
   "metadata": {
    "collapsed": true
   },
   "outputs": [],
   "source": [
    "from jnpr.junos import Device\n",
    "from jnpr.junos.utils.config import Config\n",
    "\n",
    "dev = Device(host=hostname, user=username, password=password, port='22')\n",
    "\n",
    "dev.open()\n",
    "\n",
    "with Config(dev, mode='private') as cu:  \n",
    "    cu.load('set system services netconf traceoptions file test.log', format='set')\n",
    "    cu.pdiff()\n",
    "    cu.commit(timeout=120)\n",
    "    \n",
    "    \n",
    "dev.close()"
   ]
  },
  {
   "cell_type": "markdown",
   "metadata": {},
   "source": [
    "## Rollback Example"
   ]
  },
  {
   "cell_type": "code",
   "execution_count": null,
   "metadata": {
    "collapsed": false,
    "scrolled": true
   },
   "outputs": [],
   "source": [
    "from jnpr.junos import Device\n",
    "from jnpr.junos.utils.config import Config\n",
    "\n",
    "dev = Device(host=hostname, user=username, password=password, port='22')\n",
    "\n",
    "dev.open()\n",
    "\n",
    "with Config(dev, mode='private') as cu:  \n",
    "    cu.rollback(1)\n",
    "    cu.pdiff()\n",
    "    cu.commit(timeout=120)\n",
    "    \n",
    "dev.close()"
   ]
  },
  {
   "cell_type": "markdown",
   "metadata": {},
   "source": [
    "## Configuration Comparing\n",
    "\n",
    "`pdiff()` and `diff()` can be used to print the difference between the current candidate configuration and current active configuration.\n",
    "\n",
    "`pdiff()` is the same as \"`show compare | rollback`\" and will print the difference to stdout (console). `diff()` will return the difference as an object.\n",
    "\n",
    "If you use pdiff() prior to making changes the output will be \"None\""
   ]
  },
  {
   "cell_type": "markdown",
   "metadata": {},
   "source": [
    "### `pdiff()` Example"
   ]
  },
  {
   "cell_type": "code",
   "execution_count": null,
   "metadata": {
    "collapsed": false
   },
   "outputs": [],
   "source": [
    "from jnpr.junos import Device\n",
    "from jnpr.junos.utils.config import Config\n",
    "\n",
    "dev = Device(host=hostname, user=username, password=password, port='22')\n",
    "\n",
    "dev.open()\n",
    "\n",
    "with Config(dev, mode='private') as cu:\n",
    "    cu.pdiff(2)\n",
    "dev.close()"
   ]
  },
  {
   "cell_type": "markdown",
   "metadata": {},
   "source": [
    "### `diff()` Example"
   ]
  },
  {
   "cell_type": "code",
   "execution_count": null,
   "metadata": {
    "collapsed": false
   },
   "outputs": [],
   "source": [
    "from jnpr.junos import Device\n",
    "from jnpr.junos.utils.config import Config\n",
    "\n",
    "dev = Device(host=hostname, user=username, password=password, port='22')\n",
    "\n",
    "dev.open()\n",
    "\n",
    "with Config(dev, mode='private') as cu:\n",
    "    diff = cu.diff(5)\n",
    "    print(diff)\n",
    "dev.close()"
   ]
  },
  {
   "cell_type": "markdown",
   "metadata": {},
   "source": [
    "### Comparing exceptions\n",
    "\n",
    "Warning: If you attempt to load a configuration rollback and the RB ID does not exist a `RPCError` exception will be generated."
   ]
  }
 ],
 "metadata": {
  "kernelspec": {
   "display_name": "Python 3",
   "language": "python",
   "name": "python3"
  },
  "language_info": {
   "codemirror_mode": {
    "name": "ipython",
    "version": 3
   },
   "file_extension": ".py",
   "mimetype": "text/x-python",
   "name": "python",
   "nbconvert_exporter": "python",
   "pygments_lexer": "ipython3",
   "version": "3.5.2"
  }
 },
 "nbformat": 4,
 "nbformat_minor": 1
}
