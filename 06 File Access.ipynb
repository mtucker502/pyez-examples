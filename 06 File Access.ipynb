{
 "cells": [
  {
   "cell_type": "markdown",
   "metadata": {},
   "source": [
    "**Device config:**"
   ]
  },
  {
   "cell_type": "code",
   "execution_count": null,
   "metadata": {
    "collapsed": false
   },
   "outputs": [],
   "source": [
    "import getpass\n",
    "hostname = input(\"Device Hostname:\")\n",
    "username = input(\"Username:\")\n",
    "password = getpass.getpass()"
   ]
  },
  {
   "cell_type": "markdown",
   "metadata": {},
   "source": [
    "# File Access\n",
    "\n",
    "### FS Utilities\n",
    "\n",
    "* cat(): show the contents of a file\n",
    "* checksum(): calculate file checksum (md5,sha256,sha1)\n",
    "* cp(): local file copy (not scp)\n",
    "* cwd(): change working directory\n",
    "* ls(): return file/dir listing\n",
    "* mkdir(): create a directory\n",
    "* pwd(): get working directory\n",
    "* mv(): local file rename\n",
    "* rm(): local file delete\n",
    "* rmdir(): remove a directory\n",
    "* stat(): return file/dir information\n",
    "* storage_usage(): return storage usage\n",
    "* storage_cleanup(): perform storage storage_cleanup\n",
    "* storage_cleanup_check(): returns a list of files to remove at cleanup\n",
    "* symlink(): create a symlink\n",
    "* tgz(): tar+gzip a directory"
   ]
  },
  {
   "cell_type": "code",
   "execution_count": null,
   "metadata": {
    "collapsed": false
   },
   "outputs": [],
   "source": [
    "from jnpr.junos import Device\n",
    "from jnpr.junos.utils.fs import FS\n",
    "from jnpr.junos.utils.scp import SCP\n",
    "\n",
    "dev = Device(host=hostname, user=username, password=password, port='22')\n",
    "dev.open()\n",
    "\n",
    "# It takes a while to tgz a large /var/log directory so best to set raise the RPC timeout. Default is 30 seconds.\n",
    "dev.timeout=600\n",
    "\n",
    "#with FS(dev) as fs:\n",
    "#    ok = fs.tgz('/var/log/*','/var/tmp/logs.tgz')\n",
    "\n",
    "fs = FS(dev)\n",
    "ok = fs.tgz('/var/log/*','/var/tmp/logs.tgz')\n",
    "\n",
    "if ok:\n",
    "    with SCP(dev, progress=True) as scp:\n",
    "        scp.get('/var/tmp/logs.tgz', local_path='logs.tgz')\n",
    "    \n",
    "dev.close()"
   ]
  }
 ],
 "metadata": {
  "kernelspec": {
   "display_name": "Python 3",
   "language": "python",
   "name": "python3"
  },
  "language_info": {
   "codemirror_mode": {
    "name": "ipython",
    "version": 3
   },
   "file_extension": ".py",
   "mimetype": "text/x-python",
   "name": "python",
   "nbconvert_exporter": "python",
   "pygments_lexer": "ipython3",
   "version": "3.5.2"
  }
 },
 "nbformat": 4,
 "nbformat_minor": 1
}
