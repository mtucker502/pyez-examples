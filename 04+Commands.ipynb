{
 "cells": [
  {
   "cell_type": "markdown",
   "metadata": {},
   "source": [
    "**Device config:**"
   ]
  },
  {
   "cell_type": "code",
   "execution_count": null,
   "metadata": {
    "collapsed": false
   },
   "outputs": [],
   "source": [
    "import getpass\n",
    "hostname = input(\"Device Hostname:\")\n",
    "username = input(\"Username:\")\n",
    "password = getpass.getpass()"
   ]
  },
  {
   "cell_type": "markdown",
   "metadata": {},
   "source": [
    "# CLI Commands\n",
    "\n",
    "It is possible to run CLI commands on the Junos device using PyEZ as if you were using the CLI. However any output is text only and it is strongly recommended to use RPC commands which are discussed further below. In some rare cases there is no RPC command equivalent and it is necessary to use the CLI command.\n",
    "\n",
    "Note: `dev.cli()` will not return any output automatically but will still run the commands. To see the output from the CLI command you muse use `print()`.\n"
   ]
  },
  {
   "cell_type": "markdown",
   "metadata": {},
   "source": [
    "### CLI Command Example"
   ]
  },
  {
   "cell_type": "code",
   "execution_count": null,
   "metadata": {
    "collapsed": false
   },
   "outputs": [],
   "source": [
    "from jnpr.junos import Device\n",
    "\n",
    "dev = Device(host=hostname, user=username, password=password, port='22')\n",
    "dev.open()\n",
    "\n",
    "print(dev.cli(\"show route summary\"))\n",
    "\n",
    "dev.close()"
   ]
  },
  {
   "cell_type": "markdown",
   "metadata": {},
   "source": [
    "# RPC Commands\n",
    "\n",
    "Before you can run a RPC command you must know the RPC command name. You can use the CLI or PyEZ to get the RPC command name."
   ]
  },
  {
   "cell_type": "markdown",
   "metadata": {},
   "source": [
    "### Using the CLI to get the RPC command name\n",
    "\n",
    "To get the RPC command name on the CLI use the \"display xml rpc\" command after any CLI command.\n",
    "\n",
    "```\n",
    "root@vsrx2> show route summary | display xml rpc \n",
    "<rpc-reply xmlns:junos=\"http://xml.juniper.net/junos/15.1X49/junos\">\n",
    "    <rpc>\n",
    "        <get-route-summary-information>\n",
    "        </get-route-summary-information>\n",
    "    </rpc>\n",
    "    <cli>\n",
    "        <banner></banner>\n",
    "    </cli>\n",
    "</rpc-reply>\n",
    "```"
   ]
  },
  {
   "cell_type": "markdown",
   "metadata": {},
   "source": [
    "### Using PyEZ to get the RPC command name"
   ]
  },
  {
   "cell_type": "code",
   "execution_count": null,
   "metadata": {
    "collapsed": false
   },
   "outputs": [],
   "source": [
    "from jnpr.junos import Device\n",
    "\n",
    "dev = Device(host=hostname, user=username, password=password, port='22')\n",
    "dev.open()\n",
    "\n",
    "print (dev.display_xml_rpc('show route', format='text'))\n",
    "\n",
    "dev.close()"
   ]
  },
  {
   "cell_type": "markdown",
   "metadata": {},
   "source": [
    "You only need to replace any hyphens (`-`) with underscores (`_`) to map it to the correct XML API RPC command name.\n",
    "\n",
    "Example: `get-route-information` becomes `get_route_information`."
   ]
  },
  {
   "cell_type": "markdown",
   "metadata": {},
   "source": [
    "### Running RPC Commands\n",
    "\n",
    "You can use the `rpc` property of any `Device` instance to run any RPC command available in the XML API. The `rpc` property will return an XML object starting at the first element under the <rpc-reply> tag."
   ]
  },
  {
   "cell_type": "code",
   "execution_count": null,
   "metadata": {
    "collapsed": true
   },
   "outputs": [],
   "source": [
    "from jnpr.junos import Device\n",
    "from lxml import etree\n",
    "\n",
    "dev = Device(host=hostname, user=username, password=password, port='22')\n",
    "dev.open()\n",
    "\n",
    "routes = dev.rpc.get_route_information()\n",
    "\n",
    "dev.close()\n"
   ]
  },
  {
   "cell_type": "markdown",
   "metadata": {},
   "source": [
    "### Printing RPC results"
   ]
  },
  {
   "cell_type": "markdown",
   "metadata": {},
   "source": [
    "You cannot simply use `print()` to print the results of the RPC command:"
   ]
  },
  {
   "cell_type": "code",
   "execution_count": null,
   "metadata": {
    "collapsed": false
   },
   "outputs": [],
   "source": [
    "print(routes)"
   ]
  },
  {
   "cell_type": "markdown",
   "metadata": {},
   "source": [
    "This is because the response is an XML tree"
   ]
  },
  {
   "cell_type": "code",
   "execution_count": null,
   "metadata": {
    "collapsed": false
   },
   "outputs": [],
   "source": [
    "type(routes)"
   ]
  },
  {
   "cell_type": "markdown",
   "metadata": {},
   "source": [
    "In order to print the XML tree needs to be converted to a string using the `tostring()` method from `etree`."
   ]
  },
  {
   "cell_type": "code",
   "execution_count": null,
   "metadata": {
    "collapsed": false
   },
   "outputs": [],
   "source": [
    "print(etree.tostring(routes, encoding='unicode'))"
   ]
  },
  {
   "cell_type": "markdown",
   "metadata": {},
   "source": [
    "### Normalizing the output\n",
    "\n",
    "You can normalize the output of the XML tree for all commands so that it is properly indented using `normalize=True` when the Device instance is created or when the `Device.open()` is used:\n",
    "\n",
    "**Device Instantation Example:**\n",
    "\n",
    "`dev = Device(host=hostname, user=username, password=password, port='22', normalize=True)`\n",
    "\n",
    "**Device Open Example:**\n",
    "\n",
    "`dev.open(normalize=True)`\n",
    "\n",
    "**You can also normalize an individual RPC reply:**\n",
    "\n",
    "`routes = dev.rpc.get_route_information(normalize=True)`\n",
    "\n"
   ]
  },
  {
   "cell_type": "markdown",
   "metadata": {},
   "source": [
    "#### Normalizing Example"
   ]
  },
  {
   "cell_type": "code",
   "execution_count": null,
   "metadata": {
    "collapsed": false
   },
   "outputs": [],
   "source": [
    "from jnpr.junos import Device\n",
    "from lxml import etree\n",
    "\n",
    "dev = Device(host=hostname, user=username, password=password, port='22')\n",
    "dev.open()\n",
    "\n",
    "routes = dev.rpc.get_route_information(normalize=True)\n",
    "print(etree.tostring(routes, encoding='unicode'))\n",
    "\n",
    "dev.close()"
   ]
  },
  {
   "cell_type": "markdown",
   "metadata": {},
   "source": [
    "#### Why Normalizing is Important\n",
    "\n",
    "\n",
    "xpath _______________________________"
   ]
  },
  {
   "cell_type": "markdown",
   "metadata": {},
   "source": [
    "## JSON and Text RPC Output\n",
    "\n",
    "You can also output the RPC reply in JSON or text formats. Text formats use a dictionary.\n",
    "*Note: JSON is only supported on 14.2+*"
   ]
  },
  {
   "cell_type": "code",
   "execution_count": null,
   "metadata": {
    "collapsed": false
   },
   "outputs": [],
   "source": [
    "from jnpr.junos import Device\n",
    "from lxml import etree\n",
    "\n",
    "dev = Device(host=hostname, user=username, password=password, port='22')\n",
    "dev.open()\n",
    "\n",
    "routes = dev.rpc.get_route_information({'format':'json'})\n",
    "print(routes)\n",
    "\n",
    "dev.close()"
   ]
  }
 ],
 "metadata": {
  "kernelspec": {
   "display_name": "Python 3",
   "language": "python",
   "name": "python3"
  },
  "language_info": {
   "codemirror_mode": {
    "name": "ipython",
    "version": 3
   },
   "file_extension": ".py",
   "mimetype": "text/x-python",
   "name": "python",
   "nbconvert_exporter": "python",
   "pygments_lexer": "ipython3",
   "version": "3.5.2"
  }
 },
 "nbformat": 4,
 "nbformat_minor": 1
}
