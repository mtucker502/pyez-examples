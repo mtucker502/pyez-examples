{
 "cells": [
  {
   "cell_type": "markdown",
   "metadata": {},
   "source": [
    "# The Basics\n",
    "\n",
    "## Authentication\n",
    "\n",
    "You can authenticate to the device using a password or ssh keys. For automated scripts it is recommended to use SSH keys. For interactive scripts you can prompt the user for the parameters using the input() function and storing the results in a variable.\n",
    "\n",
    "    hostname = input(\"Device Hostname:\")\n",
    "    username = input(\"Username:\")\n",
    "    password = input(\"Password:\")\n",
    "    \n",
    "Since ` input() ` will show the password in cleartext you can use the getpass method:\n",
    "\n",
    "    import getpass\n",
    "    password = getpass.getpass()\n",
    "    \n",
    "The input from the example below is used in all subsequent sections.\n",
    "\n",
    "*Hint: If you need to change these values just re-run this cell.*\n",
    "\n"
   ]
  },
  {
   "cell_type": "code",
   "execution_count": null,
   "metadata": {
    "collapsed": false
   },
   "outputs": [],
   "source": [
    "import getpass\n",
    "hostname = input(\"Device Hostname:\")\n",
    "username = input(\"Username:\")\n",
    "password = getpass.getpass()"
   ]
  },
  {
   "cell_type": "markdown",
   "metadata": {},
   "source": [
    "These variables can be used anywhere by putting calling them by name."
   ]
  },
  {
   "cell_type": "code",
   "execution_count": null,
   "metadata": {
    "collapsed": false
   },
   "outputs": [],
   "source": [
    "print(hostname)\n",
    "print(username)\n",
    "print(password)"
   ]
  },
  {
   "cell_type": "markdown",
   "metadata": {
    "collapsed": false
   },
   "source": [
    "## Connecting to a device\n",
    "\n",
    "It is possible to connect to a device via Serial, Telnet or SSH.\n",
    "\n",
    "Before you can use PyEZ to connect to the device via SSH you must enable netconf with the following commands:\n",
    "\n",
    "    set system services ssh\n",
    "    set system services netconf ssh\n",
    "\n",
    "Next you can initiate the connection to the device. Note that when SSH is used PyEZ automatically retrieves the device facts. Edit the code below:"
   ]
  },
  {
   "cell_type": "code",
   "execution_count": null,
   "metadata": {
    "collapsed": false
   },
   "outputs": [],
   "source": [
    "from jnpr.junos import Device\n",
    "from pprint import pprint\n",
    "\n",
    "dev = Device(host=hostname, user=username, password=password, port='22')\n",
    "dev.open()\n",
    "\n",
    "pprint (dev.facts)\n",
    "\n",
    "dev.close()"
   ]
  },
  {
   "cell_type": "markdown",
   "metadata": {},
   "source": [
    "## Sample Output\n",
    "\n",
    "    {'2RE': False,\n",
    "     'HOME': '/cf/root',\n",
    "     'RE0': {'last_reboot_reason': '0x10:misc hardware reason ',\n",
    "             'model': 'VSRX RE',\n",
    "             'status': 'Testing',\n",
    "             'up_time': '23 hours, 36 minutes, 29 seconds'},\n",
    "     'domain': None,\n",
    "     'fqdn': 'vsrx2',\n",
    "     'hostname': 'vsrx2',\n",
    "     'ifd_style': 'CLASSIC',\n",
    "     'model': 'VSRX',\n",
    "     'personality': 'UNKNOWN',\n",
    "     'serialnumber': '036aa3338cf5',\n",
    "     'srx_cluster': False,\n",
    "     'switch_style': 'NONE',\n",
    "     'vc_capable': False,\n",
    "     'version': '15.1X49-D50.3',\n",
    "     'version_info': junos.version_info(major=(15, 1), type=X, minor=(49, 'D', 50), build=3)}"
   ]
  }
 ],
 "metadata": {
  "kernelspec": {
   "display_name": "Python 3",
   "language": "python",
   "name": "python3"
  },
  "language_info": {
   "codemirror_mode": {
    "name": "ipython",
    "version": 3
   },
   "file_extension": ".py",
   "mimetype": "text/x-python",
   "name": "python",
   "nbconvert_exporter": "python",
   "pygments_lexer": "ipython3",
   "version": "3.5.2"
  }
 },
 "nbformat": 4,
 "nbformat_minor": 1
}
