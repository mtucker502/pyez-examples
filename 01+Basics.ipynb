{
 "cells": [
  {
   "cell_type": "markdown",
   "metadata": {},
   "source": [
    "# The Basics\n",
    "\n",
    "## Authentication\n",
    "\n",
    "You can authenticate to the device using a password or ssh keys. For automated scripts it is recommended to use SSH keys. For interactive scripts you can prompt the user for the parameters using the input() function and storing the results in a variable.\n",
    "\n",
    "    hostname = input(\"Device Hostname:\")\n",
    "    username = input(\"Username:\")\n",
    "    password = input(\"Password:\")\n",
    "    \n",
    "Since ` input() ` will show the password in cleartext you can use the getpass method:\n",
    "\n",
    "    import getpass\n",
    "    password = getpass.getpass()\n",
    "    \n",
    "The input from the example below is used in all subsequent sections.\n",
    "\n",
    "*Hint: If you need to change these values just re-run this cell.*\n",
    "\n"
   ]
  },
  {
   "cell_type": "code",
   "execution_count": null,
   "metadata": {
    "collapsed": false
   },
   "outputs": [],
   "source": [
    "import getpass\n",
    "hostname = input(\"Device Hostname:\")\n",
    "username = input(\"Username:\")\n",
    "password = getpass.getpass()"
   ]
  },
  {
   "cell_type": "markdown",
   "metadata": {},
   "source": [
    "These variables can be used anywhere by putting calling them by name."
   ]
  },
  {
   "cell_type": "code",
   "execution_count": null,
   "metadata": {
    "collapsed": false
   },
   "outputs": [],
   "source": [
    "print(hostname)\n",
    "print(username)\n",
    "print(password)"
   ]
  },
  {
   "cell_type": "markdown",
   "metadata": {
    "collapsed": false
   },
   "source": [
    "## Connecting to a device\n",
    "\n",
    "It is possible to connect to a device via Serial, Telnet or SSH.\n",
    "\n",
    "Before you can use PyEZ to connect to the device via SSH you must enable netconf with the following commands:\n",
    "\n",
    "    set system services ssh\n",
    "    set system services netconf ssh\n",
    "\n",
    "Next you can initiate the connection to the device. Note that when SSH is used PyEZ automatically retrieves the device facts. Edit the code below:"
   ]
  },
  {
   "cell_type": "code",
   "execution_count": null,
   "metadata": {
    "collapsed": false
   },
   "outputs": [],
   "source": [
    "from jnpr.junos import Device\n",
    "from pprint import pprint\n",
    "\n",
    "dev = Device(host=hostname, user=username, password=password, port='22')\n",
    "dev.open()\n",
    "\n",
    "pprint (dev.facts)\n",
    "\n",
    "dev.close()"
   ]
  },
  {
   "cell_type": "markdown",
   "metadata": {},
   "source": [
    "## Sample Output\n",
    "\n",
    "    {'2RE': False,\n",
    "     'HOME': '/cf/root',\n",
    "     'RE0': {'last_reboot_reason': '0x10:misc hardware reason ',\n",
    "             'model': 'VSRX RE',\n",
    "             'status': 'Testing',\n",
    "             'up_time': '23 hours, 36 minutes, 29 seconds'},\n",
    "     'domain': None,\n",
    "     'fqdn': 'vsrx2',\n",
    "     'hostname': 'vsrx2',\n",
    "     'ifd_style': 'CLASSIC',\n",
    "     'model': 'VSRX',\n",
    "     'personality': 'UNKNOWN',\n",
    "     'serialnumber': '036aa3338cf5',\n",
    "     'srx_cluster': False,\n",
    "     'switch_style': 'NONE',\n",
    "     'vc_capable': False,\n",
    "     'version': '15.1X49-D50.3',\n",
    "     'version_info': junos.version_info(major=(15, 1), type=X, minor=(49, 'D', 50), build=3)}"
   ]
  },
  {
   "cell_type": "markdown",
   "metadata": {},
   "source": [
    "## Configuring a device\n",
    "\n",
    "There are two methods to configuring the device, structured and unstructured.\n",
    "\n",
    "### Structured Configuration Changes\n",
    "\n",
    "Structured configuration changes are useful when the user does not know configuration stanzas or how to configure a Junos device. It abstracts the configuration statements from the user and allows changes to be made through tables and views.\n",
    "\n",
    "### Unstructured Configuration Changes\n",
    "\n",
    "Unstructured configuration changes allow the user to make changes via \"normal\" configuration commands using XML, Junos set commands or JSON. These changes are performed using the ` jnpr.junos.utils.config.Config ` utility. \n",
    "\n",
    "After connecting to the device you create a `Config` object and associate it to the device:\n",
    "\n",
    "    from jnpr.junos import Device\n",
    "    from jnpr.junos.utils.config import Config\n",
    "\n",
    "    dev = Device(host=hostname, user=username, password=password, port='22')\n",
    "    cu = Config(dev)\n",
    "    \n",
    "The basic process for making changes is to:\n",
    "\n",
    "1. Lock the configuarion using ` lock() `\n",
    "2. Use `load()`, `rollback()` or `rescue()` to make changes\n",
    "3. Commit the configuration using `commit()`\n",
    "4. Unlock the configuration using `unlock()`\n",
    "\n",
    "\n",
    "### Unstructured Example\n",
    "\n",
    "*Note, I had to adjust the timeout on commit() to 120 seconds since my compute node is slow and the vSRX was taking >30 seconds (the default timeout) to commit.*"
   ]
  },
  {
   "cell_type": "code",
   "execution_count": null,
   "metadata": {
    "collapsed": true
   },
   "outputs": [],
   "source": [
    "from jnpr.junos import Device\n",
    "from jnpr.junos.utils.config import Config\n",
    "\n",
    "dev = Device(host=hostname, user=username, password=password, port='22')\n",
    "\n",
    "dev.open()\n",
    "\n",
    "with Config(dev, mode='private') as cu:  \n",
    "    cu.load('set system services netconf traceoptions file test.log', format='set')\n",
    "    cu.pdiff()\n",
    "    cu.commit(timeout=120)\n",
    "    \n",
    "    \n",
    "dev.close()"
   ]
  },
  {
   "cell_type": "markdown",
   "metadata": {},
   "source": [
    "### Rollback Example"
   ]
  },
  {
   "cell_type": "code",
   "execution_count": null,
   "metadata": {
    "collapsed": false,
    "scrolled": true
   },
   "outputs": [],
   "source": [
    "from jnpr.junos import Device\n",
    "from jnpr.junos.utils.config import Config\n",
    "\n",
    "dev = Device(host=hostname, user=username, password=password, port='22')\n",
    "\n",
    "dev.open()\n",
    "\n",
    "with Config(dev, mode='private') as cu:  \n",
    "    cu.rollback(1)\n",
    "    cu.pdiff()\n",
    "    cu.commit(timeout=120)\n",
    "    \n",
    "dev.close()"
   ]
  }
 ],
 "metadata": {
  "kernelspec": {
   "display_name": "Python 3",
   "language": "python",
   "name": "python3"
  },
  "language_info": {
   "codemirror_mode": {
    "name": "ipython",
    "version": 3
   },
   "file_extension": ".py",
   "mimetype": "text/x-python",
   "name": "python",
   "nbconvert_exporter": "python",
   "pygments_lexer": "ipython3",
   "version": "3.5.2"
  }
 },
 "nbformat": 4,
 "nbformat_minor": 1
}
